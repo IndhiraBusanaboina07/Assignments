{
 "cells": [
  {
   "cell_type": "code",
   "execution_count": 1,
   "metadata": {},
   "outputs": [],
   "source": [
    "import time\n",
    "\n",
    "def performance_log(fn):\n",
    "    \n",
    "    def inner(* args, **kwargs):\n",
    "        start = time.time()\n",
    "        res = fn(* args, **kwargs)\n",
    "        end = time.time()\n",
    "        time_taken = start - end\n",
    "        return res\n",
    "        \n",
    "    return inner\n",
    "    "
   ]
  },
  {
   "cell_type": "code",
   "execution_count": 2,
   "metadata": {},
   "outputs": [],
   "source": [
    "# prime logic\n",
    "\n",
    "def is_prime(n):\n",
    "    if n<2:\n",
    "        return False\n",
    "    for x in range(2,n):\n",
    "        if n%x==0:\n",
    "            return False\n",
    "    return True\n",
    "\n",
    "@performance_log\n",
    "def find_primes(min,max):\n",
    "    primes=[]\n",
    "    for x in range(min,max):\n",
    "        if is_prime(x):\n",
    "            primes.append(x)\n",
    "    return primes"
   ]
  },
  {
   "cell_type": "code",
   "execution_count": 3,
   "metadata": {},
   "outputs": [],
   "source": [
    "x = find_primes(2, 5000)"
   ]
  },
  {
   "cell_type": "code",
   "execution_count": 4,
   "metadata": {},
   "outputs": [
    {
     "name": "stdout",
     "output_type": "stream",
     "text": [
      "669\n"
     ]
    }
   ],
   "source": [
    "print(len(x))"
   ]
  },
  {
   "cell_type": "code",
   "execution_count": 5,
   "metadata": {},
   "outputs": [
    {
     "ename": "AttributeError",
     "evalue": "'list' object has no attribute 'time_taken'",
     "output_type": "error",
     "traceback": [
      "\u001b[1;31m---------------------------------------------------------------------------\u001b[0m",
      "\u001b[1;31mAttributeError\u001b[0m                            Traceback (most recent call last)",
      "\u001b[1;32mc:\\Users\\busanin\\OneDrive - Ecolab\\Desktop\\jupyter\\assignments\\Assignment 11\\11_1.ipynb Cell 5\u001b[0m line \u001b[0;36m1\n\u001b[1;32m----> <a href='vscode-notebook-cell:/c%3A/Users/busanin/OneDrive%20-%20Ecolab/Desktop/jupyter/assignments/Assignment%2011/11_1.ipynb#W5sZmlsZQ%3D%3D?line=0'>1</a>\u001b[0m \u001b[39mprint\u001b[39m(x\u001b[39m.\u001b[39;49mtime_taken)\n",
      "\u001b[1;31mAttributeError\u001b[0m: 'list' object has no attribute 'time_taken'"
     ]
    }
   ],
   "source": [
    "print(x.time_taken)"
   ]
  },
  {
   "cell_type": "code",
   "execution_count": null,
   "metadata": {},
   "outputs": [],
   "source": []
  }
 ],
 "metadata": {
  "kernelspec": {
   "display_name": "Python 3",
   "language": "python",
   "name": "python3"
  },
  "language_info": {
   "codemirror_mode": {
    "name": "ipython",
    "version": 3
   },
   "file_extension": ".py",
   "mimetype": "text/x-python",
   "name": "python",
   "nbconvert_exporter": "python",
   "pygments_lexer": "ipython3",
   "version": "3.11.6"
  },
  "orig_nbformat": 4
 },
 "nbformat": 4,
 "nbformat_minor": 2
}
